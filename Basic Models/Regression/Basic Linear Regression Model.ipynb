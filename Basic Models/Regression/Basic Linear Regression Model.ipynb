{
 "cells": [
  {
   "cell_type": "markdown",
   "id": "d29d32a4",
   "metadata": {},
   "source": [
    "### Importing Libraries"
   ]
  },
  {
   "cell_type": "code",
   "execution_count": 29,
   "id": "fcced648",
   "metadata": {},
   "outputs": [],
   "source": [
    "import pandas as pd\n",
    "import numpy as np\n",
    "import matplotlib.pyplot as plt"
   ]
  },
  {
   "cell_type": "markdown",
   "id": "cd585748",
   "metadata": {},
   "source": [
    "### Loading the dataset"
   ]
  },
  {
   "cell_type": "code",
   "execution_count": 3,
   "id": "437f7f84",
   "metadata": {},
   "outputs": [],
   "source": [
    "data = pd.read_csv('E:\\datasets\\Train.csv')"
   ]
  },
  {
   "cell_type": "code",
   "execution_count": 4,
   "id": "45eb8066",
   "metadata": {},
   "outputs": [
    {
     "data": {
      "text/html": [
       "<div>\n",
       "<style scoped>\n",
       "    .dataframe tbody tr th:only-of-type {\n",
       "        vertical-align: middle;\n",
       "    }\n",
       "\n",
       "    .dataframe tbody tr th {\n",
       "        vertical-align: top;\n",
       "    }\n",
       "\n",
       "    .dataframe thead th {\n",
       "        text-align: right;\n",
       "    }\n",
       "</style>\n",
       "<table border=\"1\" class=\"dataframe\">\n",
       "  <thead>\n",
       "    <tr style=\"text-align: right;\">\n",
       "      <th></th>\n",
       "      <th>x</th>\n",
       "      <th>y</th>\n",
       "    </tr>\n",
       "  </thead>\n",
       "  <tbody>\n",
       "    <tr>\n",
       "      <th>0</th>\n",
       "      <td>24.0</td>\n",
       "      <td>21.549452</td>\n",
       "    </tr>\n",
       "    <tr>\n",
       "      <th>1</th>\n",
       "      <td>50.0</td>\n",
       "      <td>47.464463</td>\n",
       "    </tr>\n",
       "    <tr>\n",
       "      <th>2</th>\n",
       "      <td>15.0</td>\n",
       "      <td>17.218656</td>\n",
       "    </tr>\n",
       "    <tr>\n",
       "      <th>3</th>\n",
       "      <td>38.0</td>\n",
       "      <td>36.586398</td>\n",
       "    </tr>\n",
       "    <tr>\n",
       "      <th>4</th>\n",
       "      <td>87.0</td>\n",
       "      <td>87.288984</td>\n",
       "    </tr>\n",
       "    <tr>\n",
       "      <th>5</th>\n",
       "      <td>36.0</td>\n",
       "      <td>32.463875</td>\n",
       "    </tr>\n",
       "    <tr>\n",
       "      <th>6</th>\n",
       "      <td>12.0</td>\n",
       "      <td>10.780897</td>\n",
       "    </tr>\n",
       "    <tr>\n",
       "      <th>7</th>\n",
       "      <td>81.0</td>\n",
       "      <td>80.763399</td>\n",
       "    </tr>\n",
       "    <tr>\n",
       "      <th>8</th>\n",
       "      <td>25.0</td>\n",
       "      <td>24.612151</td>\n",
       "    </tr>\n",
       "    <tr>\n",
       "      <th>9</th>\n",
       "      <td>5.0</td>\n",
       "      <td>6.963319</td>\n",
       "    </tr>\n",
       "  </tbody>\n",
       "</table>\n",
       "</div>"
      ],
      "text/plain": [
       "      x          y\n",
       "0  24.0  21.549452\n",
       "1  50.0  47.464463\n",
       "2  15.0  17.218656\n",
       "3  38.0  36.586398\n",
       "4  87.0  87.288984\n",
       "5  36.0  32.463875\n",
       "6  12.0  10.780897\n",
       "7  81.0  80.763399\n",
       "8  25.0  24.612151\n",
       "9   5.0   6.963319"
      ]
     },
     "execution_count": 4,
     "metadata": {},
     "output_type": "execute_result"
    }
   ],
   "source": [
    "data.head(10)"
   ]
  },
  {
   "cell_type": "code",
   "execution_count": 5,
   "id": "ad547dcf",
   "metadata": {},
   "outputs": [
    {
     "name": "stdout",
     "output_type": "stream",
     "text": [
      "<class 'pandas.core.frame.DataFrame'>\n",
      "RangeIndex: 700 entries, 0 to 699\n",
      "Data columns (total 2 columns):\n",
      " #   Column  Non-Null Count  Dtype  \n",
      "---  ------  --------------  -----  \n",
      " 0   x       700 non-null    float64\n",
      " 1   y       699 non-null    float64\n",
      "dtypes: float64(2)\n",
      "memory usage: 11.1 KB\n"
     ]
    }
   ],
   "source": [
    "data.info()"
   ]
  },
  {
   "cell_type": "markdown",
   "id": "5f5d98d3",
   "metadata": {},
   "source": [
    "### Data Preprocessing"
   ]
  },
  {
   "cell_type": "markdown",
   "id": "1d7d2411",
   "metadata": {},
   "source": [
    "#### Handling Null value"
   ]
  },
  {
   "cell_type": "code",
   "execution_count": 8,
   "id": "c0378199",
   "metadata": {},
   "outputs": [],
   "source": [
    "data = data.dropna(axis=0)"
   ]
  },
  {
   "cell_type": "code",
   "execution_count": 9,
   "id": "910b83a0",
   "metadata": {},
   "outputs": [
    {
     "name": "stdout",
     "output_type": "stream",
     "text": [
      "<class 'pandas.core.frame.DataFrame'>\n",
      "Int64Index: 699 entries, 0 to 699\n",
      "Data columns (total 2 columns):\n",
      " #   Column  Non-Null Count  Dtype  \n",
      "---  ------  --------------  -----  \n",
      " 0   x       699 non-null    float64\n",
      " 1   y       699 non-null    float64\n",
      "dtypes: float64(2)\n",
      "memory usage: 16.4 KB\n"
     ]
    }
   ],
   "source": [
    "data.info()"
   ]
  },
  {
   "cell_type": "markdown",
   "id": "210573c3",
   "metadata": {},
   "source": [
    "### Splitting the data"
   ]
  },
  {
   "cell_type": "code",
   "execution_count": 10,
   "id": "502d9436",
   "metadata": {},
   "outputs": [],
   "source": [
    "#splitting the data set for training and testing\n",
    "train_input = np.array(data.x[0:500]).reshape(500,1)\n",
    "train_output=np.array(data.y[0:500]).reshape(500,1)\n",
    "\n",
    "test_input= np.array(data.x[500:700]).reshape(199,1)\n",
    "test_output=np.array(data.y[500:700]).reshape(199,1)"
   ]
  },
  {
   "cell_type": "code",
   "execution_count": 12,
   "id": "271e5b78",
   "metadata": {},
   "outputs": [
    {
     "data": {
      "text/plain": [
       "(500, 1)"
      ]
     },
     "execution_count": 12,
     "metadata": {},
     "output_type": "execute_result"
    }
   ],
   "source": [
    "train_input.shape"
   ]
  },
  {
   "cell_type": "code",
   "execution_count": 13,
   "id": "177c9754",
   "metadata": {},
   "outputs": [
    {
     "data": {
      "text/plain": [
       "(500, 1)"
      ]
     },
     "execution_count": 13,
     "metadata": {},
     "output_type": "execute_result"
    }
   ],
   "source": [
    "train_output.shape"
   ]
  },
  {
   "cell_type": "code",
   "execution_count": 14,
   "id": "9dd05e4b",
   "metadata": {},
   "outputs": [
    {
     "data": {
      "text/plain": [
       "(199, 1)"
      ]
     },
     "execution_count": 14,
     "metadata": {},
     "output_type": "execute_result"
    }
   ],
   "source": [
    "test_input.shape"
   ]
  },
  {
   "cell_type": "code",
   "execution_count": 15,
   "id": "6d2e03d5",
   "metadata": {},
   "outputs": [
    {
     "data": {
      "text/plain": [
       "(199, 1)"
      ]
     },
     "execution_count": 15,
     "metadata": {},
     "output_type": "execute_result"
    }
   ],
   "source": [
    "test_output.shape"
   ]
  },
  {
   "cell_type": "markdown",
   "id": "178c7edb",
   "metadata": {},
   "source": [
    "# LINEAR REGRESSION\n"
   ]
  },
  {
   "cell_type": "markdown",
   "id": "9f8a074f",
   "metadata": {},
   "source": [
    "### Importing linear regression from scikit learn"
   ]
  },
  {
   "cell_type": "code",
   "execution_count": 17,
   "id": "fccdc7fe",
   "metadata": {},
   "outputs": [],
   "source": [
    "from sklearn.linear_model import LinearRegression"
   ]
  },
  {
   "cell_type": "code",
   "execution_count": 18,
   "id": "bc93dc98",
   "metadata": {},
   "outputs": [],
   "source": [
    "#initiating the regression\n",
    "linear_regression = LinearRegression()"
   ]
  },
  {
   "cell_type": "code",
   "execution_count": 19,
   "id": "821d8f29",
   "metadata": {},
   "outputs": [
    {
     "data": {
      "text/plain": [
       "LinearRegression()"
      ]
     },
     "execution_count": 19,
     "metadata": {},
     "output_type": "execute_result"
    }
   ],
   "source": [
    "linear_regression.fit(train_input,train_output)"
   ]
  },
  {
   "cell_type": "markdown",
   "id": "1d5e89fa",
   "metadata": {},
   "source": [
    "# PREDICT THE MODEL"
   ]
  },
  {
   "cell_type": "code",
   "execution_count": 21,
   "id": "80995cc6",
   "metadata": {},
   "outputs": [],
   "source": [
    "predicted_value = linear_regression.predict(test_input)"
   ]
  },
  {
   "cell_type": "code",
   "execution_count": 22,
   "id": "9e9f6625",
   "metadata": {
    "collapsed": true
   },
   "outputs": [
    {
     "data": {
      "text/plain": [
       "array([[ 4.76896187],\n",
       "       [60.82492252],\n",
       "       [46.81093236],\n",
       "       [97.86189652],\n",
       "       [29.7939443 ],\n",
       "       [62.82692111],\n",
       "       [-0.23603461],\n",
       "       [99.86389511],\n",
       "       [17.78195274],\n",
       "       [29.7939443 ],\n",
       "       [97.86189652],\n",
       "       [15.77995414],\n",
       "       [21.78594992],\n",
       "       [54.81892673],\n",
       "       [42.80693517],\n",
       "       [74.83891268],\n",
       "       [90.85490143],\n",
       "       [45.80993306],\n",
       "       [84.84890565],\n",
       "       [54.81892673],\n",
       "       [35.79994009],\n",
       "       [48.81293095],\n",
       "       [93.85789933],\n",
       "       [42.80693517],\n",
       "       [21.78594992],\n",
       "       [36.80093938],\n",
       "       [23.78794852],\n",
       "       [94.85889862],\n",
       "       [60.82492252],\n",
       "       [74.83891268],\n",
       "       [67.8319176 ],\n",
       "       [57.82192463],\n",
       "       [ 4.76896187],\n",
       "       [52.81692814],\n",
       "       [79.84390916],\n",
       "       [82.84690706],\n",
       "       [24.78894782],\n",
       "       [33.79794149],\n",
       "       [25.78994711],\n",
       "       [89.85390214],\n",
       "       [59.82392322],\n",
       "       [48.81293095],\n",
       "       [18.78295203],\n",
       "       [91.85590073],\n",
       "       [28.79294501],\n",
       "       [ 7.77195976],\n",
       "       [56.82092533],\n",
       "       [28.79294501],\n",
       "       [18.78295203],\n",
       "       [80.84490846],\n",
       "       [49.81393025],\n",
       "       [14.77895484],\n",
       "       [69.83391619],\n",
       "       [38.80293798],\n",
       "       [42.80693517],\n",
       "       [20.78495063],\n",
       "       [97.86189652],\n",
       "       [85.84990495],\n",
       "       [15.77995414],\n",
       "       [24.78894782],\n",
       "       [30.7949436 ],\n",
       "       [92.85690003],\n",
       "       [66.8309183 ],\n",
       "       [48.81293095],\n",
       "       [24.78894782],\n",
       "       [87.85190354],\n",
       "       [53.81792744],\n",
       "       [20.78495063],\n",
       "       [ 7.77195976],\n",
       "       [31.7959429 ],\n",
       "       [34.79894079],\n",
       "       [66.8309183 ],\n",
       "       [89.85390214],\n",
       "       [58.82292392],\n",
       "       [14.77895484],\n",
       "       [66.8309183 ],\n",
       "       [41.80593587],\n",
       "       [43.80793446],\n",
       "       [76.84091127],\n",
       "       [67.8319176 ],\n",
       "       [35.79994009],\n",
       "       [10.77495765],\n",
       "       [ 9.77395836],\n",
       "       [64.82891971],\n",
       "       [97.86189652],\n",
       "       [97.86189652],\n",
       "       [48.81293095],\n",
       "       [30.7949436 ],\n",
       "       [55.81992603],\n",
       "       [69.83391619],\n",
       "       [90.85490143],\n",
       "       [24.78894782],\n",
       "       [53.81792744],\n",
       "       [38.80293798],\n",
       "       [90.85490143],\n",
       "       [ 2.76696328],\n",
       "       [21.78594992],\n",
       "       [ 1.76596398],\n",
       "       [ 1.76596398],\n",
       "       [64.82891971],\n",
       "       [70.83491549],\n",
       "       [41.80593587],\n",
       "       [75.83991198],\n",
       "       [42.80693517],\n",
       "       [ 7.77195976],\n",
       "       [85.84990495],\n",
       "       [86.85090425],\n",
       "       [ 2.76696328],\n",
       "       [57.82192463],\n",
       "       [61.82592181],\n",
       "       [88.85290284],\n",
       "       [94.85889862],\n",
       "       [27.79194571],\n",
       "       [-0.23603461],\n",
       "       [ 0.76496468],\n",
       "       [48.81293095],\n",
       "       [20.78495063],\n",
       "       [45.80993306],\n",
       "       [10.77495765],\n",
       "       [88.85290284],\n",
       "       [36.80093938],\n",
       "       [28.79294501],\n",
       "       [43.80793446],\n",
       "       [95.85989792],\n",
       "       [15.77995414],\n",
       "       [73.83791338],\n",
       "       [34.79894079],\n",
       "       [41.80593587],\n",
       "       [15.77995414],\n",
       "       [55.81992603],\n",
       "       [17.78195274],\n",
       "       [99.86389511],\n",
       "       [53.81792744],\n",
       "       [91.85590073],\n",
       "       [62.82692111],\n",
       "       [80.84490846],\n",
       "       [72.83691408],\n",
       "       [47.81193165],\n",
       "       [ 0.76496468],\n",
       "       [84.84890565],\n",
       "       [13.77795555],\n",
       "       [24.78894782],\n",
       "       [44.80893376],\n",
       "       [97.86189652],\n",
       "       [96.86089722],\n",
       "       [57.82192463],\n",
       "       [92.85690003],\n",
       "       [87.85190354],\n",
       "       [88.85290284],\n",
       "       [46.81093236],\n",
       "       [ 5.76996117],\n",
       "       [33.79794149],\n",
       "       [29.7939443 ],\n",
       "       [15.77995414],\n",
       "       [85.84990495],\n",
       "       [39.80393727],\n",
       "       [51.81592884],\n",
       "       [14.77895484],\n",
       "       [ 3.76796257],\n",
       "       [94.85889862],\n",
       "       [98.86289581],\n",
       "       [34.79894079],\n",
       "       [57.82192463],\n",
       "       [ 9.77395836],\n",
       "       [15.77995414],\n",
       "       [52.81692814],\n",
       "       [57.82192463],\n",
       "       [41.80593587],\n",
       "       [23.78794852],\n",
       "       [83.84790635],\n",
       "       [63.82792041],\n",
       "       [11.77595695],\n",
       "       [60.82492252],\n",
       "       [74.83891268],\n",
       "       [14.77895484],\n",
       "       [99.86389511],\n",
       "       [42.80693517],\n",
       "       [12.77695625],\n",
       "       [47.81193165],\n",
       "       [44.80893376],\n",
       "       [51.81592884],\n",
       "       [33.79794149],\n",
       "       [29.7939443 ],\n",
       "       [64.82891971],\n",
       "       [99.86389511],\n",
       "       [66.8309183 ],\n",
       "       [98.86289581],\n",
       "       [44.80893376],\n",
       "       [86.85090425],\n",
       "       [72.83691408],\n",
       "       [ 8.77295906],\n",
       "       [80.84490846],\n",
       "       [71.83591479],\n",
       "       [80.84490846],\n",
       "       [57.82192463],\n",
       "       [92.85690003],\n",
       "       [81.84590776],\n",
       "       [65.829919  ],\n",
       "       [96.86089722]])"
      ]
     },
     "execution_count": 22,
     "metadata": {},
     "output_type": "execute_result"
    }
   ],
   "source": [
    "predicted_value"
   ]
  },
  {
   "cell_type": "code",
   "execution_count": 23,
   "id": "e6f11cc8",
   "metadata": {
    "collapsed": true
   },
   "outputs": [
    {
     "data": {
      "text/plain": [
       "array([[  7.68202459],\n",
       "       [ 61.01858089],\n",
       "       [ 53.60562216],\n",
       "       [ 94.47728801],\n",
       "       [ 27.9645947 ],\n",
       "       [ 62.55662585],\n",
       "       [  1.40625441],\n",
       "       [101.7003412 ],\n",
       "       [ 13.84973988],\n",
       "       [ 28.99769315],\n",
       "       [ 99.04315693],\n",
       "       [ 15.56135514],\n",
       "       [ 24.63528393],\n",
       "       [ 53.98393374],\n",
       "       [ 42.91449728],\n",
       "       [ 74.29662112],\n",
       "       [ 91.17012883],\n",
       "       [ 49.42440876],\n",
       "       [ 82.47683519],\n",
       "       [ 56.15303953],\n",
       "       [ 37.17063131],\n",
       "       [ 46.36928662],\n",
       "       [ 97.02383456],\n",
       "       [ 40.83182104],\n",
       "       [ 24.08498313],\n",
       "       [ 41.14386358],\n",
       "       [ 21.97388066],\n",
       "       [100.740897  ],\n",
       "       [ 61.19971596],\n",
       "       [ 74.39517002],\n",
       "       [ 69.04377173],\n",
       "       [ 56.68718792],\n",
       "       [  5.86039171],\n",
       "       [ 55.72021356],\n",
       "       [ 79.22021816],\n",
       "       [ 86.30177517],\n",
       "       [ 25.26971886],\n",
       "       [ 36.33294447],\n",
       "       [ 27.65574228],\n",
       "       [ 94.79690531],\n",
       "       [ 58.67366671],\n",
       "       [ 56.15934471],\n",
       "       [ 18.40919388],\n",
       "       [ 86.26936988],\n",
       "       [ 26.59436195],\n",
       "       [  8.45252016],\n",
       "       [ 56.18131518],\n",
       "       [ 27.65452669],\n",
       "       [ 20.87391785],\n",
       "       [ 77.83354439],\n",
       "       [ 50.01787825],\n",
       "       [  9.29085626],\n",
       "       [ 75.0284725 ],\n",
       "       [ 38.3037698 ],\n",
       "       [ 44.70786405],\n",
       "       [ 22.51016575],\n",
       "       [102.4959452 ],\n",
       "       [ 86.76845244],\n",
       "       [ 13.89748578],\n",
       "       [ 24.81824269],\n",
       "       [ 33.94224862],\n",
       "       [ 92.26970059],\n",
       "       [ 68.73365081],\n",
       "       [ 47.38516883],\n",
       "       [ 32.37576914],\n",
       "       [ 87.67388681],\n",
       "       [ 54.57648371],\n",
       "       [ 18.06450222],\n",
       "       [  7.89653984],\n",
       "       [ 35.00341078],\n",
       "       [ 36.72823317],\n",
       "       [ 65.84975426],\n",
       "       [ 89.59295492],\n",
       "       [ 61.69026202],\n",
       "       [ 11.60499315],\n",
       "       [ 71.0826803 ],\n",
       "       [ 43.71901164],\n",
       "       [ 41.57421008],\n",
       "       [ 74.25552425],\n",
       "       [ 66.28310437],\n",
       "       [ 36.62438077],\n",
       "       [ 10.32374866],\n",
       "       [  7.15645766],\n",
       "       [ 67.88603132],\n",
       "       [101.1097591 ],\n",
       "       [ 98.6132033 ],\n",
       "       [ 50.19083844],\n",
       "       [ 27.83896261],\n",
       "       [ 55.9249564 ],\n",
       "       [ 76.47340872],\n",
       "       [ 92.05756378],\n",
       "       [ 27.35245439],\n",
       "       [ 55.32083476],\n",
       "       [ 41.39990349],\n",
       "       [ 93.59057024],\n",
       "       [  5.29705403],\n",
       "       [ 21.01429422],\n",
       "       [  2.26705945],\n",
       "       [ -0.1218605 ],\n",
       "       [ 66.49546208],\n",
       "       [ 73.83637687],\n",
       "       [ 42.10140878],\n",
       "       [ 77.35135732],\n",
       "       [ 41.02251779],\n",
       "       [ 14.75305272],\n",
       "       [ 83.28199022],\n",
       "       [ 89.93374342],\n",
       "       [  2.28657169],\n",
       "       [ 55.61421297],\n",
       "       [ 62.15313408],\n",
       "       [ 89.55803528],\n",
       "       [ 94.00291863],\n",
       "       [ 26.78023848],\n",
       "       [ -0.76453763],\n",
       "       [  0.282866  ],\n",
       "       [ 44.26800515],\n",
       "       [ 19.85174138],\n",
       "       [ 47.15960005],\n",
       "       [  8.35936657],\n",
       "       [ 92.08157084],\n",
       "       [ 41.88734051],\n",
       "       [ 30.5413129 ],\n",
       "       [ 46.87654473],\n",
       "       [ 96.35659485],\n",
       "       [ 17.9170699 ],\n",
       "       [ 71.67949917],\n",
       "       [ 32.64997554],\n",
       "       [ 39.34482965],\n",
       "       [ 17.03401999],\n",
       "       [ 52.87524074],\n",
       "       [ 15.85414849],\n",
       "       [108.8716183 ],\n",
       "       [ 49.30477253],\n",
       "       [ 89.4749477 ],\n",
       "       [ 63.67348242],\n",
       "       [ 83.78410946],\n",
       "       [ 73.51136922],\n",
       "       [ 46.80297244],\n",
       "       [  5.8099468 ],\n",
       "       [ 85.23027975],\n",
       "       [ 10.58213964],\n",
       "       [ 21.37698317],\n",
       "       [ 46.0537745 ],\n",
       "       [ 95.2389253 ],\n",
       "       [ 94.15149206],\n",
       "       [ 54.54868046],\n",
       "       [ 87.36260449],\n",
       "       [ 88.47741598],\n",
       "       [ 84.48045678],\n",
       "       [ 48.79647071],\n",
       "       [ 10.76675683],\n",
       "       [ 30.48882921],\n",
       "       [ 29.76846185],\n",
       "       [ 13.51574749],\n",
       "       [ 86.12955884],\n",
       "       [ 43.30022747],\n",
       "       [ 51.92110232],\n",
       "       [ 16.49185287],\n",
       "       [  7.99807343],\n",
       "       [ 97.66689567],\n",
       "       [ 89.80545367],\n",
       "       [ 38.07166567],\n",
       "       [ 60.27852322],\n",
       "       [  6.70919576],\n",
       "       [ 18.35488924],\n",
       "       [ 56.37058203],\n",
       "       [ 62.80064204],\n",
       "       [ 41.25155632],\n",
       "       [ 19.42637541],\n",
       "       [ 82.88935804],\n",
       "       [ 63.61364981],\n",
       "       [ 11.29627199],\n",
       "       [ 60.02274882],\n",
       "       [ 72.60339326],\n",
       "       [ 11.87964573],\n",
       "       [100.7012737 ],\n",
       "       [ 45.12420809],\n",
       "       [ 14.81106804],\n",
       "       [ 48.09368034],\n",
       "       [ 42.29145672],\n",
       "       [ 52.73389794],\n",
       "       [ 36.72396986],\n",
       "       [ 28.64535198],\n",
       "       [ 62.16675273],\n",
       "       [ 95.58459518],\n",
       "       [ 66.04325304],\n",
       "       [ 99.9566225 ],\n",
       "       [ 46.14941984],\n",
       "       [ 89.13754963],\n",
       "       [ 69.71787806],\n",
       "       [ 12.31736648],\n",
       "       [ 78.20296268],\n",
       "       [ 71.30995371],\n",
       "       [ 81.45544709],\n",
       "       [ 58.59500642],\n",
       "       [ 94.62509374],\n",
       "       [ 88.60376995],\n",
       "       [ 63.64868529],\n",
       "       [ 94.9752655 ]])"
      ]
     },
     "execution_count": 23,
     "metadata": {},
     "output_type": "execute_result"
    }
   ],
   "source": [
    "#compare the predicted value score with actual test output\n",
    "test_output"
   ]
  },
  {
   "cell_type": "code",
   "execution_count": 24,
   "id": "7aff0728",
   "metadata": {},
   "outputs": [],
   "source": [
    "#we got some difference between predicted and actual value, so visualizing using mean square error \n",
    "from sklearn.metrics import mean_squared_error"
   ]
  },
  {
   "cell_type": "code",
   "execution_count": 25,
   "id": "8e08f484",
   "metadata": {},
   "outputs": [],
   "source": [
    "error = mean_squared_error(test_output,predicted_value)"
   ]
  },
  {
   "cell_type": "code",
   "execution_count": 26,
   "id": "86a565ba",
   "metadata": {},
   "outputs": [
    {
     "data": {
      "text/plain": [
       "8.030031591835375"
      ]
     },
     "execution_count": 26,
     "metadata": {},
     "output_type": "execute_result"
    }
   ],
   "source": [
    "#the difference between actual and predicted value is 8%\n",
    "error"
   ]
  },
  {
   "cell_type": "markdown",
   "id": "596bfd2d",
   "metadata": {},
   "source": [
    "# VISUALIZING THE PLOT"
   ]
  },
  {
   "cell_type": "code",
   "execution_count": 30,
   "id": "63a2e50e",
   "metadata": {},
   "outputs": [
    {
     "data": {
      "text/plain": [
       "<function matplotlib.pyplot.show(close=None, block=None)>"
      ]
     },
     "execution_count": 30,
     "metadata": {},
     "output_type": "execute_result"
    },
    {
     "data": {
      "image/png": "[encoded data removed]",
      "text/plain": [
       "<Figure size 432x288 with 1 Axes>"
      ]
     },
     "metadata": {
      "needs_background": "light"
     },
     "output_type": "display_data"
    }
   ],
   "source": [
    "plt.plot(test_input,test_output,'+',color='c')\n",
    "plt.plot(test_input,predicted_value,'*',color='m')\n",
    "plt.title('Linear Regression Plot')\n",
    "plt.xlabel('input')\n",
    "plt.ylabel('output')\n",
    "plt.show"
   ]
  },
  {
   "cell_type": "code",
   "execution_count": null,
   "id": "420938c8",
   "metadata": {},
   "outputs": [],
   "source": []
  }
 ],
 "metadata": {
  "kernelspec": {
   "display_name": "Python 3",
   "language": "python",
   "name": "python3"
  },
  "language_info": {
   "codemirror_mode": {
    "name": "ipython",
    "version": 3
   },
   "file_extension": ".py",
   "mimetype": "text/x-python",
   "name": "python",
   "nbconvert_exporter": "python",
   "pygments_lexer": "ipython3",
   "version": "3.8.8"
  }
 },
 "nbformat": 4,
 "nbformat_minor": 5
}
