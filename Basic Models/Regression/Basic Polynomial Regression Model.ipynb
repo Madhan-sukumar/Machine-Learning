{
 "cells": [
  {
   "cell_type": "markdown",
   "id": "c2c4fc25",
   "metadata": {},
   "source": [
    "### Importing Libraries"
   ]
  },
  {
   "cell_type": "code",
   "execution_count": 1,
   "id": "de8d8b1a",
   "metadata": {},
   "outputs": [],
   "source": [
    "import numpy as np\n",
    "import pandas as pd\n",
    "import matplotlib.pyplot as plt"
   ]
  },
  {
   "cell_type": "markdown",
   "id": "9f6260d1",
   "metadata": {},
   "source": [
    "### Loading Data"
   ]
  },
  {
   "cell_type": "code",
   "execution_count": 2,
   "id": "bffa49fe",
   "metadata": {},
   "outputs": [],
   "source": [
    "data = pd.read_csv('E:\\datasets\\Train.csv')"
   ]
  },
  {
   "cell_type": "code",
   "execution_count": 3,
   "id": "062a3a3c",
   "metadata": {},
   "outputs": [
    {
     "name": "stdout",
     "output_type": "stream",
     "text": [
      "<class 'pandas.core.frame.DataFrame'>\n",
      "RangeIndex: 700 entries, 0 to 699\n",
      "Data columns (total 2 columns):\n",
      " #   Column  Non-Null Count  Dtype  \n",
      "---  ------  --------------  -----  \n",
      " 0   x       700 non-null    float64\n",
      " 1   y       699 non-null    float64\n",
      "dtypes: float64(2)\n",
      "memory usage: 11.1 KB\n"
     ]
    }
   ],
   "source": [
    "data.info()"
   ]
  },
  {
   "cell_type": "markdown",
   "id": "966cfdeb",
   "metadata": {},
   "source": [
    "### Data Preprocessing"
   ]
  },
  {
   "cell_type": "code",
   "execution_count": 4,
   "id": "ecc6cca4",
   "metadata": {},
   "outputs": [],
   "source": [
    "#dropping the null values as row\n",
    "data = data.dropna(axis=0)"
   ]
  },
  {
   "cell_type": "code",
   "execution_count": 6,
   "id": "e156d2d0",
   "metadata": {},
   "outputs": [
    {
     "name": "stdout",
     "output_type": "stream",
     "text": [
      "<class 'pandas.core.frame.DataFrame'>\n",
      "Int64Index: 699 entries, 0 to 699\n",
      "Data columns (total 2 columns):\n",
      " #   Column  Non-Null Count  Dtype  \n",
      "---  ------  --------------  -----  \n",
      " 0   x       699 non-null    float64\n",
      " 1   y       699 non-null    float64\n",
      "dtypes: float64(2)\n",
      "memory usage: 16.4 KB\n"
     ]
    }
   ],
   "source": [
    "data.info()"
   ]
  },
  {
   "cell_type": "markdown",
   "id": "8b1e3634",
   "metadata": {},
   "source": [
    "### spilliting the Data"
   ]
  },
  {
   "cell_type": "code",
   "execution_count": 7,
   "id": "153eeda4",
   "metadata": {},
   "outputs": [],
   "source": [
    "train_input = np.array(data.x[0:500]).reshape(500,1)\n",
    "train_output = np.array(data.y[0:500]).reshape(500,1)\n",
    "\n",
    "test_input = np.array(data.x[500:700]).reshape(199,1)\n",
    "test_output = np.array(data.y[500:700]).reshape(199,1)"
   ]
  },
  {
   "cell_type": "code",
   "execution_count": 10,
   "id": "058bb9a2",
   "metadata": {},
   "outputs": [
    {
     "data": {
      "text/plain": [
       "(500, 1)"
      ]
     },
     "execution_count": 10,
     "metadata": {},
     "output_type": "execute_result"
    }
   ],
   "source": [
    "train_input.shape"
   ]
  },
  {
   "cell_type": "code",
   "execution_count": 11,
   "id": "f93a4b67",
   "metadata": {},
   "outputs": [
    {
     "data": {
      "text/plain": [
       "(500, 1)"
      ]
     },
     "execution_count": 11,
     "metadata": {},
     "output_type": "execute_result"
    }
   ],
   "source": [
    "train_output.shape"
   ]
  },
  {
   "cell_type": "code",
   "execution_count": 13,
   "id": "14aabb5c",
   "metadata": {},
   "outputs": [
    {
     "data": {
      "text/plain": [
       "(199, 1)"
      ]
     },
     "execution_count": 13,
     "metadata": {},
     "output_type": "execute_result"
    }
   ],
   "source": [
    "test_input.shape"
   ]
  },
  {
   "cell_type": "code",
   "execution_count": 14,
   "id": "d1337c04",
   "metadata": {},
   "outputs": [
    {
     "data": {
      "text/plain": [
       "(199, 1)"
      ]
     },
     "execution_count": 14,
     "metadata": {},
     "output_type": "execute_result"
    }
   ],
   "source": [
    "test_output.shape"
   ]
  },
  {
   "cell_type": "markdown",
   "id": "36466abd",
   "metadata": {},
   "source": [
    "# LINEAR REGRESSION"
   ]
  },
  {
   "cell_type": "markdown",
   "id": "e7ac93a1",
   "metadata": {},
   "source": [
    "## Polynomial regression"
   ]
  },
  {
   "cell_type": "markdown",
   "id": "166c86b8",
   "metadata": {},
   "source": [
    "### Fitting the data in Polynomial Regression function"
   ]
  },
  {
   "cell_type": "code",
   "execution_count": 18,
   "id": "54379942",
   "metadata": {},
   "outputs": [],
   "source": [
    "# importing packages from scikit learn\n",
    "from sklearn.linear_model import LinearRegression\n",
    "from sklearn.preprocessing import PolynomialFeatures"
   ]
  },
  {
   "cell_type": "code",
   "execution_count": 19,
   "id": "92ec4c3b",
   "metadata": {},
   "outputs": [
    {
     "data": {
      "text/plain": [
       "PolynomialFeatures()"
      ]
     },
     "execution_count": 19,
     "metadata": {},
     "output_type": "execute_result"
    }
   ],
   "source": [
    "#declaring the x-degree as 2 (Y=θo + θ₁X + θ₂X²)\n",
    "poly_regressor = PolynomialFeatures(degree=2)\n",
    "\n",
    "#transforming the training input into polynomial function matrix by applying its value\n",
    "poly_train_input = poly_regressor.fit_transform(train_input)\n",
    "\n",
    "#fitting the transformed data to the polyregressor\n",
    "poly_regressor.fit(poly_train_input,train_output)"
   ]
  },
  {
   "cell_type": "code",
   "execution_count": 20,
   "id": "d9741af4",
   "metadata": {},
   "outputs": [
    {
     "data": {
      "text/plain": [
       "array([[1.000e+00, 2.400e+01, 5.760e+02],\n",
       "       [1.000e+00, 5.000e+01, 2.500e+03],\n",
       "       [1.000e+00, 1.500e+01, 2.250e+02],\n",
       "       ...,\n",
       "       [1.000e+00, 2.100e+01, 4.410e+02],\n",
       "       [1.000e+00, 8.100e+01, 6.561e+03],\n",
       "       [1.000e+00, 9.700e+01, 9.409e+03]])"
      ]
     },
     "execution_count": 20,
     "metadata": {},
     "output_type": "execute_result"
    }
   ],
   "source": [
    "#with degree 2, having 3 columns for theta,theta1*x1,theta2*x1^2 (Y=θo + θ₁X + θ₂X² + … + θₘXᵐ)\n",
    "poly_train_input"
   ]
  },
  {
   "cell_type": "markdown",
   "id": "dffb8524",
   "metadata": {},
   "source": [
    "### Applying polynomial regressor in Linear Regression"
   ]
  },
  {
   "cell_type": "code",
   "execution_count": 22,
   "id": "a2ecbd18",
   "metadata": {},
   "outputs": [
    {
     "data": {
      "text/plain": [
       "LinearRegression()"
      ]
     },
     "execution_count": 22,
     "metadata": {},
     "output_type": "execute_result"
    }
   ],
   "source": [
    "linear_regressor = LinearRegression()\n",
    "\n",
    "#fitting the tranformed data to the linear regressor\n",
    "linear_regressor.fit(poly_train_input,train_output)"
   ]
  },
  {
   "cell_type": "markdown",
   "id": "6fa86d5a",
   "metadata": {},
   "source": [
    "# Predicting Test_input"
   ]
  },
  {
   "cell_type": "code",
   "execution_count": 25,
   "id": "7ee7dcae",
   "metadata": {},
   "outputs": [],
   "source": [
    "predicted_value = linear_regressor.predict(poly_regressor.fit_transform(test_input))"
   ]
  },
  {
   "cell_type": "code",
   "execution_count": 26,
   "id": "ae56d41b",
   "metadata": {
    "collapsed": true
   },
   "outputs": [
    {
     "data": {
      "text/plain": [
       "array([[ 4.46957573],\n",
       "       [60.99608394],\n",
       "       [47.00554813],\n",
       "       [97.51828372],\n",
       "       [29.89058614],\n",
       "       [62.98705348],\n",
       "       [-0.65061901],\n",
       "       [99.47374049],\n",
       "       [17.72593351],\n",
       "       [29.89058614],\n",
       "       [97.51828372],\n",
       "       [15.69177278],\n",
       "       [21.78849616],\n",
       "       [55.01165768],\n",
       "       [42.99097571],\n",
       "       [74.89255892],\n",
       "       [90.65906809],\n",
       "       [46.00262488],\n",
       "       [84.76102421],\n",
       "       [55.01165768],\n",
       "       [35.94699773],\n",
       "       [49.00995493],\n",
       "       [93.60161134],\n",
       "       [42.99097571],\n",
       "       [21.78849616],\n",
       "       [36.95472001],\n",
       "       [23.81689807],\n",
       "       [94.58149929],\n",
       "       [60.99608394],\n",
       "       [74.89255892],\n",
       "       [67.95607903],\n",
       "       [58.00603037],\n",
       "       [ 4.46957573],\n",
       "       [53.0130097 ],\n",
       "       [79.83279034],\n",
       "       [82.79117037],\n",
       "       [24.83037917],\n",
       "       [33.93011348],\n",
       "       [25.84338036],\n",
       "       [89.67726053],\n",
       "       [59.99987932],\n",
       "       [49.00995493],\n",
       "       [18.74229403],\n",
       "       [91.64039574],\n",
       "       [28.87950455],\n",
       "       [ 7.53593375],\n",
       "       [57.00838604],\n",
       "       [28.87950455],\n",
       "       [18.74229403],\n",
       "       [80.81939692],\n",
       "       [50.01143848],\n",
       "       [14.67397256],\n",
       "       [69.94032994],\n",
       "       [38.96872485],\n",
       "       [42.99097571],\n",
       "       [20.77357535],\n",
       "       [97.51828372],\n",
       "       [85.74523128],\n",
       "       [15.69177278],\n",
       "       [24.83037917],\n",
       "       [30.90118783],\n",
       "       [92.62124349],\n",
       "       [66.96323373],\n",
       "       [49.00995493],\n",
       "       [24.83037917],\n",
       "       [87.71220571],\n",
       "       [54.01257364],\n",
       "       [20.77357535],\n",
       "       [ 7.53593375],\n",
       "       [31.91130961],\n",
       "       [34.93879556],\n",
       "       [66.96323373],\n",
       "       [89.67726053],\n",
       "       [59.00319479],\n",
       "       [14.67397256],\n",
       "       [66.96323373],\n",
       "       [41.98613285],\n",
       "       [43.99533867],\n",
       "       [76.8700912 ],\n",
       "       [67.95607903],\n",
       "       [35.94699773],\n",
       "       [10.59797265],\n",
       "       [ 9.57777292],\n",
       "       [64.97610341],\n",
       "       [97.51828372],\n",
       "       [97.51828372],\n",
       "       [49.00995493],\n",
       "       [30.90118783],\n",
       "       [56.01026181],\n",
       "       [69.94032994],\n",
       "       [90.65906809],\n",
       "       [24.83037917],\n",
       "       [54.01257364],\n",
       "       [38.96872485],\n",
       "       [90.65906809],\n",
       "       [ 2.42293754],\n",
       "       [21.78849616],\n",
       "       [ 1.39889859],\n",
       "       [ 1.39889859],\n",
       "       [64.97610341],\n",
       "       [70.93173554],\n",
       "       [41.98613285],\n",
       "       [75.88156501],\n",
       "       [42.99097571],\n",
       "       [ 7.53593375],\n",
       "       [85.74523128],\n",
       "       [86.72895845],\n",
       "       [ 2.42293754],\n",
       "       [58.00603037],\n",
       "       [61.99180866],\n",
       "       [88.69497307],\n",
       "       [94.58149929],\n",
       "       [27.86794306],\n",
       "       [-0.65061901],\n",
       "       [ 0.37437974],\n",
       "       [49.00995493],\n",
       "       [20.77357535],\n",
       "       [46.00262488],\n",
       "       [10.59797265],\n",
       "       [88.69497307],\n",
       "       [36.95472001],\n",
       "       [28.87950455],\n",
       "       [43.99533867],\n",
       "       [95.56090733],\n",
       "       [15.69177278],\n",
       "       [73.90307293],\n",
       "       [34.93879556],\n",
       "       [41.98613285],\n",
       "       [15.69177278],\n",
       "       [56.01026181],\n",
       "       [17.72593351],\n",
       "       [99.47374049],\n",
       "       [54.01257364],\n",
       "       [91.64039574],\n",
       "       [62.98705348],\n",
       "       [80.81939692],\n",
       "       [72.91310704],\n",
       "       [48.00799148],\n",
       "       [ 0.37437974],\n",
       "       [84.76102421],\n",
       "       [13.65569244],\n",
       "       [24.83037917],\n",
       "       [44.99922172],\n",
       "       [97.51828372],\n",
       "       [96.53983548],\n",
       "       [58.00603037],\n",
       "       [92.62124349],\n",
       "       [87.71220571],\n",
       "       [88.69497307],\n",
       "       [47.00554813],\n",
       "       [ 5.49217497],\n",
       "       [33.93011348],\n",
       "       [29.89058614],\n",
       "       [15.69177278],\n",
       "       [85.74523128],\n",
       "       [39.97500742],\n",
       "       [52.01296586],\n",
       "       [14.67397256],\n",
       "       [ 3.44649659],\n",
       "       [94.58149929],\n",
       "       [98.49625206],\n",
       "       [34.93879556],\n",
       "       [58.00603037],\n",
       "       [ 9.57777292],\n",
       "       [15.69177278],\n",
       "       [53.0130097 ],\n",
       "       [58.00603037],\n",
       "       [41.98613285],\n",
       "       [23.81689807],\n",
       "       [83.77633724],\n",
       "       [63.98181839],\n",
       "       [11.61769248],\n",
       "       [60.99608394],\n",
       "       [74.89255892],\n",
       "       [14.67397256],\n",
       "       [99.47374049],\n",
       "       [42.99097571],\n",
       "       [12.63693241],\n",
       "       [48.00799148],\n",
       "       [44.99922172],\n",
       "       [52.01296586],\n",
       "       [33.93011348],\n",
       "       [29.89058614],\n",
       "       [64.97610341],\n",
       "       [99.47374049],\n",
       "       [66.96323373],\n",
       "       [98.49625206],\n",
       "       [44.99922172],\n",
       "       [86.72895845],\n",
       "       [72.91310704],\n",
       "       [ 8.55709329],\n",
       "       [80.81939692],\n",
       "       [71.92266124],\n",
       "       [80.81939692],\n",
       "       [58.00603037],\n",
       "       [92.62124349],\n",
       "       [81.8055236 ],\n",
       "       [65.96990852],\n",
       "       [96.53983548]])"
      ]
     },
     "execution_count": 26,
     "metadata": {},
     "output_type": "execute_result"
    }
   ],
   "source": [
    "predicted_value"
   ]
  },
  {
   "cell_type": "code",
   "execution_count": 27,
   "id": "3025f5fb",
   "metadata": {
    "collapsed": true
   },
   "outputs": [
    {
     "data": {
      "text/plain": [
       "array([[  7.68202459],\n",
       "       [ 61.01858089],\n",
       "       [ 53.60562216],\n",
       "       [ 94.47728801],\n",
       "       [ 27.9645947 ],\n",
       "       [ 62.55662585],\n",
       "       [  1.40625441],\n",
       "       [101.7003412 ],\n",
       "       [ 13.84973988],\n",
       "       [ 28.99769315],\n",
       "       [ 99.04315693],\n",
       "       [ 15.56135514],\n",
       "       [ 24.63528393],\n",
       "       [ 53.98393374],\n",
       "       [ 42.91449728],\n",
       "       [ 74.29662112],\n",
       "       [ 91.17012883],\n",
       "       [ 49.42440876],\n",
       "       [ 82.47683519],\n",
       "       [ 56.15303953],\n",
       "       [ 37.17063131],\n",
       "       [ 46.36928662],\n",
       "       [ 97.02383456],\n",
       "       [ 40.83182104],\n",
       "       [ 24.08498313],\n",
       "       [ 41.14386358],\n",
       "       [ 21.97388066],\n",
       "       [100.740897  ],\n",
       "       [ 61.19971596],\n",
       "       [ 74.39517002],\n",
       "       [ 69.04377173],\n",
       "       [ 56.68718792],\n",
       "       [  5.86039171],\n",
       "       [ 55.72021356],\n",
       "       [ 79.22021816],\n",
       "       [ 86.30177517],\n",
       "       [ 25.26971886],\n",
       "       [ 36.33294447],\n",
       "       [ 27.65574228],\n",
       "       [ 94.79690531],\n",
       "       [ 58.67366671],\n",
       "       [ 56.15934471],\n",
       "       [ 18.40919388],\n",
       "       [ 86.26936988],\n",
       "       [ 26.59436195],\n",
       "       [  8.45252016],\n",
       "       [ 56.18131518],\n",
       "       [ 27.65452669],\n",
       "       [ 20.87391785],\n",
       "       [ 77.83354439],\n",
       "       [ 50.01787825],\n",
       "       [  9.29085626],\n",
       "       [ 75.0284725 ],\n",
       "       [ 38.3037698 ],\n",
       "       [ 44.70786405],\n",
       "       [ 22.51016575],\n",
       "       [102.4959452 ],\n",
       "       [ 86.76845244],\n",
       "       [ 13.89748578],\n",
       "       [ 24.81824269],\n",
       "       [ 33.94224862],\n",
       "       [ 92.26970059],\n",
       "       [ 68.73365081],\n",
       "       [ 47.38516883],\n",
       "       [ 32.37576914],\n",
       "       [ 87.67388681],\n",
       "       [ 54.57648371],\n",
       "       [ 18.06450222],\n",
       "       [  7.89653984],\n",
       "       [ 35.00341078],\n",
       "       [ 36.72823317],\n",
       "       [ 65.84975426],\n",
       "       [ 89.59295492],\n",
       "       [ 61.69026202],\n",
       "       [ 11.60499315],\n",
       "       [ 71.0826803 ],\n",
       "       [ 43.71901164],\n",
       "       [ 41.57421008],\n",
       "       [ 74.25552425],\n",
       "       [ 66.28310437],\n",
       "       [ 36.62438077],\n",
       "       [ 10.32374866],\n",
       "       [  7.15645766],\n",
       "       [ 67.88603132],\n",
       "       [101.1097591 ],\n",
       "       [ 98.6132033 ],\n",
       "       [ 50.19083844],\n",
       "       [ 27.83896261],\n",
       "       [ 55.9249564 ],\n",
       "       [ 76.47340872],\n",
       "       [ 92.05756378],\n",
       "       [ 27.35245439],\n",
       "       [ 55.32083476],\n",
       "       [ 41.39990349],\n",
       "       [ 93.59057024],\n",
       "       [  5.29705403],\n",
       "       [ 21.01429422],\n",
       "       [  2.26705945],\n",
       "       [ -0.1218605 ],\n",
       "       [ 66.49546208],\n",
       "       [ 73.83637687],\n",
       "       [ 42.10140878],\n",
       "       [ 77.35135732],\n",
       "       [ 41.02251779],\n",
       "       [ 14.75305272],\n",
       "       [ 83.28199022],\n",
       "       [ 89.93374342],\n",
       "       [  2.28657169],\n",
       "       [ 55.61421297],\n",
       "       [ 62.15313408],\n",
       "       [ 89.55803528],\n",
       "       [ 94.00291863],\n",
       "       [ 26.78023848],\n",
       "       [ -0.76453763],\n",
       "       [  0.282866  ],\n",
       "       [ 44.26800515],\n",
       "       [ 19.85174138],\n",
       "       [ 47.15960005],\n",
       "       [  8.35936657],\n",
       "       [ 92.08157084],\n",
       "       [ 41.88734051],\n",
       "       [ 30.5413129 ],\n",
       "       [ 46.87654473],\n",
       "       [ 96.35659485],\n",
       "       [ 17.9170699 ],\n",
       "       [ 71.67949917],\n",
       "       [ 32.64997554],\n",
       "       [ 39.34482965],\n",
       "       [ 17.03401999],\n",
       "       [ 52.87524074],\n",
       "       [ 15.85414849],\n",
       "       [108.8716183 ],\n",
       "       [ 49.30477253],\n",
       "       [ 89.4749477 ],\n",
       "       [ 63.67348242],\n",
       "       [ 83.78410946],\n",
       "       [ 73.51136922],\n",
       "       [ 46.80297244],\n",
       "       [  5.8099468 ],\n",
       "       [ 85.23027975],\n",
       "       [ 10.58213964],\n",
       "       [ 21.37698317],\n",
       "       [ 46.0537745 ],\n",
       "       [ 95.2389253 ],\n",
       "       [ 94.15149206],\n",
       "       [ 54.54868046],\n",
       "       [ 87.36260449],\n",
       "       [ 88.47741598],\n",
       "       [ 84.48045678],\n",
       "       [ 48.79647071],\n",
       "       [ 10.76675683],\n",
       "       [ 30.48882921],\n",
       "       [ 29.76846185],\n",
       "       [ 13.51574749],\n",
       "       [ 86.12955884],\n",
       "       [ 43.30022747],\n",
       "       [ 51.92110232],\n",
       "       [ 16.49185287],\n",
       "       [  7.99807343],\n",
       "       [ 97.66689567],\n",
       "       [ 89.80545367],\n",
       "       [ 38.07166567],\n",
       "       [ 60.27852322],\n",
       "       [  6.70919576],\n",
       "       [ 18.35488924],\n",
       "       [ 56.37058203],\n",
       "       [ 62.80064204],\n",
       "       [ 41.25155632],\n",
       "       [ 19.42637541],\n",
       "       [ 82.88935804],\n",
       "       [ 63.61364981],\n",
       "       [ 11.29627199],\n",
       "       [ 60.02274882],\n",
       "       [ 72.60339326],\n",
       "       [ 11.87964573],\n",
       "       [100.7012737 ],\n",
       "       [ 45.12420809],\n",
       "       [ 14.81106804],\n",
       "       [ 48.09368034],\n",
       "       [ 42.29145672],\n",
       "       [ 52.73389794],\n",
       "       [ 36.72396986],\n",
       "       [ 28.64535198],\n",
       "       [ 62.16675273],\n",
       "       [ 95.58459518],\n",
       "       [ 66.04325304],\n",
       "       [ 99.9566225 ],\n",
       "       [ 46.14941984],\n",
       "       [ 89.13754963],\n",
       "       [ 69.71787806],\n",
       "       [ 12.31736648],\n",
       "       [ 78.20296268],\n",
       "       [ 71.30995371],\n",
       "       [ 81.45544709],\n",
       "       [ 58.59500642],\n",
       "       [ 94.62509374],\n",
       "       [ 88.60376995],\n",
       "       [ 63.64868529],\n",
       "       [ 94.9752655 ]])"
      ]
     },
     "execution_count": 27,
     "metadata": {},
     "output_type": "execute_result"
    }
   ],
   "source": [
    "test_output"
   ]
  },
  {
   "cell_type": "markdown",
   "id": "30ed6bd1",
   "metadata": {},
   "source": [
    "# Finding the accuracy of the model"
   ]
  },
  {
   "cell_type": "code",
   "execution_count": 30,
   "id": "3180d17f",
   "metadata": {},
   "outputs": [],
   "source": [
    "from sklearn.metrics import mean_squared_error"
   ]
  },
  {
   "cell_type": "code",
   "execution_count": 32,
   "id": "790b0092",
   "metadata": {},
   "outputs": [],
   "source": [
    "error = mean_squared_error(predicted_value,test_output)"
   ]
  },
  {
   "cell_type": "code",
   "execution_count": 33,
   "id": "14f48e83",
   "metadata": {},
   "outputs": [
    {
     "data": {
      "text/plain": [
       "8.063337564451198"
      ]
     },
     "execution_count": 33,
     "metadata": {},
     "output_type": "execute_result"
    }
   ],
   "source": [
    "error"
   ]
  },
  {
   "cell_type": "markdown",
   "id": "71738eb8",
   "metadata": {},
   "source": [
    "# Plotting the graph"
   ]
  },
  {
   "cell_type": "code",
   "execution_count": 35,
   "id": "36152c0b",
   "metadata": {},
   "outputs": [
    {
     "data": {
      "text/plain": [
       "<function matplotlib.pyplot.show(close=None, block=None)>"
      ]
     },
     "execution_count": 35,
     "metadata": {},
     "output_type": "execute_result"
    },
    {
     "data": {
      "image/png": "[encoded data removed]",
      "text/plain": [
       "<Figure size 432x288 with 1 Axes>"
      ]
     },
     "metadata": {
      "needs_background": "light"
     },
     "output_type": "display_data"
    }
   ],
   "source": [
    "plt.plot(train_input,train_output,'*',color='c')\n",
    "plt.plot(test_input,predicted_value,'+',color='g')\n",
    "plt.title('Model Graph')\n",
    "plt.xlabel('X-input')\n",
    "plt.ylabel('Y-output')\n",
    "plt.show"
   ]
  },
  {
   "cell_type": "code",
   "execution_count": null,
   "id": "975cbf93",
   "metadata": {},
   "outputs": [],
   "source": []
  }
 ],
 "metadata": {
  "kernelspec": {
   "display_name": "Python 3",
   "language": "python",
   "name": "python3"
  },
  "language_info": {
   "codemirror_mode": {
    "name": "ipython",
    "version": 3
   },
   "file_extension": ".py",
   "mimetype": "text/x-python",
   "name": "python",
   "nbconvert_exporter": "python",
   "pygments_lexer": "ipython3",
   "version": "3.8.8"
  }
 },
 "nbformat": 4,
 "nbformat_minor": 5
}
