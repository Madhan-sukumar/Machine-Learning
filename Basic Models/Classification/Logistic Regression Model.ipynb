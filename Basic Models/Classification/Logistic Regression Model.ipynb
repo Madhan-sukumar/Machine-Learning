{
 "cells": [
  {
   "cell_type": "markdown",
   "id": "9542edbb",
   "metadata": {},
   "source": [
    "## Importing Libraries"
   ]
  },
  {
   "cell_type": "code",
   "execution_count": 44,
   "id": "966e2008",
   "metadata": {},
   "outputs": [],
   "source": [
    "import numpy as np\n",
    "import pandas as pd\n",
    "import matplotlib.pyplot as plt"
   ]
  },
  {
   "cell_type": "markdown",
   "id": "efa28247",
   "metadata": {},
   "source": [
    "## Loading the dataset"
   ]
  },
  {
   "cell_type": "code",
   "execution_count": 45,
   "id": "6b50069e",
   "metadata": {},
   "outputs": [],
   "source": [
    "data = pd.read_csv('E:\\datasets\\classification\\seed_data.csv')"
   ]
  },
  {
   "cell_type": "code",
   "execution_count": 3,
   "id": "fe6c8f32",
   "metadata": {},
   "outputs": [
    {
     "data": {
      "text/html": [
       "<div>\n",
       "<style scoped>\n",
       "    .dataframe tbody tr th:only-of-type {\n",
       "        vertical-align: middle;\n",
       "    }\n",
       "\n",
       "    .dataframe tbody tr th {\n",
       "        vertical-align: top;\n",
       "    }\n",
       "\n",
       "    .dataframe thead th {\n",
       "        text-align: right;\n",
       "    }\n",
       "</style>\n",
       "<table border=\"1\" class=\"dataframe\">\n",
       "  <thead>\n",
       "    <tr style=\"text-align: right;\">\n",
       "      <th></th>\n",
       "      <th>area</th>\n",
       "      <th>perimeter</th>\n",
       "      <th>compactness</th>\n",
       "      <th>length</th>\n",
       "      <th>width</th>\n",
       "      <th>asymmetry</th>\n",
       "      <th>length_kernel_groove</th>\n",
       "      <th>kernel</th>\n",
       "    </tr>\n",
       "  </thead>\n",
       "  <tbody>\n",
       "    <tr>\n",
       "      <th>0</th>\n",
       "      <td>15.26</td>\n",
       "      <td>14.84</td>\n",
       "      <td>0.8710</td>\n",
       "      <td>5.763</td>\n",
       "      <td>3.312</td>\n",
       "      <td>2.221</td>\n",
       "      <td>5.220</td>\n",
       "      <td>0</td>\n",
       "    </tr>\n",
       "    <tr>\n",
       "      <th>1</th>\n",
       "      <td>14.88</td>\n",
       "      <td>14.57</td>\n",
       "      <td>0.8811</td>\n",
       "      <td>5.554</td>\n",
       "      <td>3.333</td>\n",
       "      <td>1.018</td>\n",
       "      <td>4.956</td>\n",
       "      <td>0</td>\n",
       "    </tr>\n",
       "    <tr>\n",
       "      <th>2</th>\n",
       "      <td>14.29</td>\n",
       "      <td>14.09</td>\n",
       "      <td>0.9050</td>\n",
       "      <td>5.291</td>\n",
       "      <td>3.337</td>\n",
       "      <td>2.699</td>\n",
       "      <td>4.825</td>\n",
       "      <td>0</td>\n",
       "    </tr>\n",
       "    <tr>\n",
       "      <th>3</th>\n",
       "      <td>13.84</td>\n",
       "      <td>13.94</td>\n",
       "      <td>0.8955</td>\n",
       "      <td>5.324</td>\n",
       "      <td>3.379</td>\n",
       "      <td>2.259</td>\n",
       "      <td>4.805</td>\n",
       "      <td>0</td>\n",
       "    </tr>\n",
       "    <tr>\n",
       "      <th>4</th>\n",
       "      <td>16.14</td>\n",
       "      <td>14.99</td>\n",
       "      <td>0.9034</td>\n",
       "      <td>5.658</td>\n",
       "      <td>3.562</td>\n",
       "      <td>1.355</td>\n",
       "      <td>5.175</td>\n",
       "      <td>0</td>\n",
       "    </tr>\n",
       "  </tbody>\n",
       "</table>\n",
       "</div>"
      ],
      "text/plain": [
       "    area  perimeter  compactness  length  width  asymmetry  \\\n",
       "0  15.26      14.84       0.8710   5.763  3.312      2.221   \n",
       "1  14.88      14.57       0.8811   5.554  3.333      1.018   \n",
       "2  14.29      14.09       0.9050   5.291  3.337      2.699   \n",
       "3  13.84      13.94       0.8955   5.324  3.379      2.259   \n",
       "4  16.14      14.99       0.9034   5.658  3.562      1.355   \n",
       "\n",
       "   length_kernel_groove  kernel  \n",
       "0                 5.220       0  \n",
       "1                 4.956       0  \n",
       "2                 4.825       0  \n",
       "3                 4.805       0  \n",
       "4                 5.175       0  "
      ]
     },
     "execution_count": 3,
     "metadata": {},
     "output_type": "execute_result"
    }
   ],
   "source": [
    "data.head()"
   ]
  },
  {
   "cell_type": "code",
   "execution_count": 4,
   "id": "b71a1a17",
   "metadata": {},
   "outputs": [
    {
     "name": "stdout",
     "output_type": "stream",
     "text": [
      "<class 'pandas.core.frame.DataFrame'>\n",
      "RangeIndex: 210 entries, 0 to 209\n",
      "Data columns (total 8 columns):\n",
      " #   Column                Non-Null Count  Dtype  \n",
      "---  ------                --------------  -----  \n",
      " 0   area                  210 non-null    float64\n",
      " 1   perimeter             210 non-null    float64\n",
      " 2   compactness           210 non-null    float64\n",
      " 3   length                210 non-null    float64\n",
      " 4   width                 210 non-null    float64\n",
      " 5   asymmetry             210 non-null    float64\n",
      " 6   length_kernel_groove  210 non-null    float64\n",
      " 7   kernel                210 non-null    int64  \n",
      "dtypes: float64(7), int64(1)\n",
      "memory usage: 13.2 KB\n"
     ]
    }
   ],
   "source": [
    "data.info()"
   ]
  },
  {
   "cell_type": "code",
   "execution_count": 9,
   "id": "f72ed428",
   "metadata": {},
   "outputs": [
    {
     "data": {
      "text/plain": [
       "area   perimeter  compactness  length  width  asymmetry  length_kernel_groove  kernel\n",
       "False  False      False        False   False  False      False                 False     210\n",
       "dtype: int64"
      ]
     },
     "execution_count": 9,
     "metadata": {},
     "output_type": "execute_result"
    }
   ],
   "source": [
    "data.isnull().value_counts()"
   ]
  },
  {
   "cell_type": "markdown",
   "id": "cb90abac",
   "metadata": {},
   "source": [
    "## Spiliting the dataset"
   ]
  },
  {
   "cell_type": "code",
   "execution_count": 17,
   "id": "9dbe1a0c",
   "metadata": {},
   "outputs": [],
   "source": [
    "x = data.drop('kernel',axis=1)"
   ]
  },
  {
   "cell_type": "code",
   "execution_count": 22,
   "id": "b370a3ed",
   "metadata": {},
   "outputs": [],
   "source": [
    "y=data['kernel']"
   ]
  },
  {
   "cell_type": "code",
   "execution_count": 23,
   "id": "52104c49",
   "metadata": {},
   "outputs": [
    {
     "data": {
      "text/html": [
       "<div>\n",
       "<style scoped>\n",
       "    .dataframe tbody tr th:only-of-type {\n",
       "        vertical-align: middle;\n",
       "    }\n",
       "\n",
       "    .dataframe tbody tr th {\n",
       "        vertical-align: top;\n",
       "    }\n",
       "\n",
       "    .dataframe thead th {\n",
       "        text-align: right;\n",
       "    }\n",
       "</style>\n",
       "<table border=\"1\" class=\"dataframe\">\n",
       "  <thead>\n",
       "    <tr style=\"text-align: right;\">\n",
       "      <th></th>\n",
       "      <th>area</th>\n",
       "      <th>perimeter</th>\n",
       "      <th>compactness</th>\n",
       "      <th>length</th>\n",
       "      <th>width</th>\n",
       "      <th>asymmetry</th>\n",
       "      <th>length_kernel_groove</th>\n",
       "    </tr>\n",
       "  </thead>\n",
       "  <tbody>\n",
       "    <tr>\n",
       "      <th>0</th>\n",
       "      <td>15.26</td>\n",
       "      <td>14.84</td>\n",
       "      <td>0.8710</td>\n",
       "      <td>5.763</td>\n",
       "      <td>3.312</td>\n",
       "      <td>2.221</td>\n",
       "      <td>5.220</td>\n",
       "    </tr>\n",
       "    <tr>\n",
       "      <th>1</th>\n",
       "      <td>14.88</td>\n",
       "      <td>14.57</td>\n",
       "      <td>0.8811</td>\n",
       "      <td>5.554</td>\n",
       "      <td>3.333</td>\n",
       "      <td>1.018</td>\n",
       "      <td>4.956</td>\n",
       "    </tr>\n",
       "    <tr>\n",
       "      <th>2</th>\n",
       "      <td>14.29</td>\n",
       "      <td>14.09</td>\n",
       "      <td>0.9050</td>\n",
       "      <td>5.291</td>\n",
       "      <td>3.337</td>\n",
       "      <td>2.699</td>\n",
       "      <td>4.825</td>\n",
       "    </tr>\n",
       "    <tr>\n",
       "      <th>3</th>\n",
       "      <td>13.84</td>\n",
       "      <td>13.94</td>\n",
       "      <td>0.8955</td>\n",
       "      <td>5.324</td>\n",
       "      <td>3.379</td>\n",
       "      <td>2.259</td>\n",
       "      <td>4.805</td>\n",
       "    </tr>\n",
       "    <tr>\n",
       "      <th>4</th>\n",
       "      <td>16.14</td>\n",
       "      <td>14.99</td>\n",
       "      <td>0.9034</td>\n",
       "      <td>5.658</td>\n",
       "      <td>3.562</td>\n",
       "      <td>1.355</td>\n",
       "      <td>5.175</td>\n",
       "    </tr>\n",
       "  </tbody>\n",
       "</table>\n",
       "</div>"
      ],
      "text/plain": [
       "    area  perimeter  compactness  length  width  asymmetry  \\\n",
       "0  15.26      14.84       0.8710   5.763  3.312      2.221   \n",
       "1  14.88      14.57       0.8811   5.554  3.333      1.018   \n",
       "2  14.29      14.09       0.9050   5.291  3.337      2.699   \n",
       "3  13.84      13.94       0.8955   5.324  3.379      2.259   \n",
       "4  16.14      14.99       0.9034   5.658  3.562      1.355   \n",
       "\n",
       "   length_kernel_groove  \n",
       "0                 5.220  \n",
       "1                 4.956  \n",
       "2                 4.825  \n",
       "3                 4.805  \n",
       "4                 5.175  "
      ]
     },
     "execution_count": 23,
     "metadata": {},
     "output_type": "execute_result"
    }
   ],
   "source": [
    "x.head()"
   ]
  },
  {
   "cell_type": "code",
   "execution_count": 24,
   "id": "b7c76a06",
   "metadata": {},
   "outputs": [
    {
     "data": {
      "text/plain": [
       "0    0\n",
       "1    0\n",
       "2    0\n",
       "3    0\n",
       "4    0\n",
       "Name: kernel, dtype: int64"
      ]
     },
     "execution_count": 24,
     "metadata": {},
     "output_type": "execute_result"
    }
   ],
   "source": [
    "y.head()"
   ]
  },
  {
   "cell_type": "code",
   "execution_count": 26,
   "id": "d9121476",
   "metadata": {},
   "outputs": [
    {
     "data": {
      "text/plain": [
       "array([0, 1, 2], dtype=int64)"
      ]
     },
     "execution_count": 26,
     "metadata": {},
     "output_type": "execute_result"
    }
   ],
   "source": [
    "y.unique()"
   ]
  },
  {
   "cell_type": "code",
   "execution_count": 30,
   "id": "58bf4c49",
   "metadata": {},
   "outputs": [
    {
     "data": {
      "text/plain": [
       "0    70\n",
       "1    70\n",
       "2    70\n",
       "Name: kernel, dtype: int64"
      ]
     },
     "execution_count": 30,
     "metadata": {},
     "output_type": "execute_result"
    }
   ],
   "source": [
    "y.value_counts()"
   ]
  },
  {
   "cell_type": "code",
   "execution_count": 34,
   "id": "7920df36",
   "metadata": {},
   "outputs": [],
   "source": [
    "from sklearn.model_selection import train_test_split"
   ]
  },
  {
   "cell_type": "code",
   "execution_count": 35,
   "id": "f675e466",
   "metadata": {},
   "outputs": [],
   "source": [
    "xtrain,xtest,ytrain,ytest = train_test_split(x,y,test_size=0.25,random_state=0)"
   ]
  },
  {
   "cell_type": "code",
   "execution_count": 36,
   "id": "eeadf40e",
   "metadata": {},
   "outputs": [
    {
     "data": {
      "text/plain": [
       "(157, 7)"
      ]
     },
     "execution_count": 36,
     "metadata": {},
     "output_type": "execute_result"
    }
   ],
   "source": [
    "xtrain.shape"
   ]
  },
  {
   "cell_type": "code",
   "execution_count": 37,
   "id": "6e7fff03",
   "metadata": {},
   "outputs": [
    {
     "data": {
      "text/plain": [
       "(157,)"
      ]
     },
     "execution_count": 37,
     "metadata": {},
     "output_type": "execute_result"
    }
   ],
   "source": [
    "ytrain.shape"
   ]
  },
  {
   "cell_type": "code",
   "execution_count": 38,
   "id": "0e1597cf",
   "metadata": {},
   "outputs": [
    {
     "data": {
      "text/plain": [
       "(53, 7)"
      ]
     },
     "execution_count": 38,
     "metadata": {},
     "output_type": "execute_result"
    }
   ],
   "source": [
    "xtest.shape"
   ]
  },
  {
   "cell_type": "code",
   "execution_count": 39,
   "id": "817c074d",
   "metadata": {},
   "outputs": [
    {
     "data": {
      "text/plain": [
       "(53,)"
      ]
     },
     "execution_count": 39,
     "metadata": {},
     "output_type": "execute_result"
    }
   ],
   "source": [
    "ytest.shape"
   ]
  },
  {
   "cell_type": "markdown",
   "id": "d9ea53d7",
   "metadata": {},
   "source": [
    "## Feature scaling"
   ]
  },
  {
   "cell_type": "code",
   "execution_count": 32,
   "id": "24a8b57b",
   "metadata": {},
   "outputs": [],
   "source": [
    "from sklearn.preprocessing import StandardScaler"
   ]
  },
  {
   "cell_type": "code",
   "execution_count": 33,
   "id": "c70cea0c",
   "metadata": {},
   "outputs": [],
   "source": [
    "scaler = StandardScaler()"
   ]
  },
  {
   "cell_type": "code",
   "execution_count": 40,
   "id": "7e607802",
   "metadata": {},
   "outputs": [],
   "source": [
    "xtrain = scaler.fit_transform(xtrain)"
   ]
  },
  {
   "cell_type": "code",
   "execution_count": 46,
   "id": "fe413213",
   "metadata": {},
   "outputs": [],
   "source": [
    "xtest = scaler.transform(xtest)"
   ]
  },
  {
   "cell_type": "code",
   "execution_count": 41,
   "id": "030e759f",
   "metadata": {},
   "outputs": [
    {
     "data": {
      "text/plain": [
       "array([[-0.74611567, -0.65972366, -1.02218665, ..., -0.90632233,\n",
       "        -0.25413579, -0.34853337],\n",
       "       [ 0.6223282 ,  0.69525799,  0.18452295, ...,  0.57172364,\n",
       "        -1.09659973,  0.96335943],\n",
       "       [-0.43215847, -0.52346852,  0.74704923, ..., -0.25267384,\n",
       "        -0.73259674, -0.45616544],\n",
       "       ...,\n",
       "       [ 1.48229791,  1.44466125,  0.83324277, ...,  1.50550719,\n",
       "        -0.40186643,  1.58884393],\n",
       "       [ 0.06266537,  0.0139823 ,  0.80148726, ...,  0.33694377,\n",
       "        -0.48571355, -0.46225783],\n",
       "       [-1.20681373, -1.18960475, -1.30344978, ..., -1.30117937,\n",
       "         0.41331392, -0.81764674]])"
      ]
     },
     "execution_count": 41,
     "metadata": {},
     "output_type": "execute_result"
    }
   ],
   "source": [
    "xtrain"
   ]
  },
  {
   "cell_type": "code",
   "execution_count": 47,
   "id": "de4e867b",
   "metadata": {},
   "outputs": [
    {
     "data": {
      "text/plain": [
       "array([[-3.12718234e-01, -3.94783111e-01,  7.87877749e-01,\n",
       "        -4.12031102e-01, -1.37951863e-01,  1.98372491e-01,\n",
       "        -1.34971472e+00],\n",
       "       [ 5.88202414e-01,  6.04421235e-01,  5.29297122e-01,\n",
       "         5.57990669e-01,  5.77059541e-01,  1.22716337e+00,\n",
       "         9.69451815e-01],\n",
       "       [-2.95655343e-01, -2.81237162e-01,  9.83294085e-02,\n",
       "        -8.72072982e-02, -2.68681560e-01, -1.04070165e+00,\n",
       "        -7.93277218e-01],\n",
       "       [-1.45501902e-01, -2.50958243e-01,  1.10996941e+00,\n",
       "        -5.29946593e-01,  1.63526826e-01, -8.15778413e-01,\n",
       "        -9.07001672e-01],\n",
       "       [-1.22046404e+00, -1.30315070e+00, -5.09561892e-01,\n",
       "        -1.19071830e+00, -1.14643810e+00,  2.55274644e+00,\n",
       "        -9.04970878e-01],\n",
       "       [ 1.62562619e+00,  1.66418342e+00,  3.29691023e-01,\n",
       "         1.69042434e+00,  1.39078521e+00, -1.47457723e+00,\n",
       "         1.76755379e+00],\n",
       "       [ 1.41745892e+00,  1.25541801e+00,  1.68156869e+00,\n",
       "         9.49559090e-01,  1.72427933e+00,  4.29950257e-01,\n",
       "         7.05448619e-01],\n",
       "       [ 4.65349599e-01,  6.34700155e-01, -5.36780905e-01,\n",
       "         3.06585944e-01,  3.63623301e-01,  3.98008496e-01,\n",
       "         6.10001310e-01],\n",
       "       [ 1.80649284e+00,  1.85342667e+00,  1.79986449e-01,\n",
       "         2.12871399e+00,  1.42546860e+00, -1.15316326e+00,\n",
       "         2.12497350e+00],\n",
       "       [-1.17610052e+00, -1.12904691e+00, -1.47130037e+00,\n",
       "        -9.99383734e-01, -1.32252300e+00,  2.39630599e-01,\n",
       "        -2.83547970e-01],\n",
       "       [-3.43431438e-01, -3.79643651e-01,  3.97738556e-01,\n",
       "        -5.52194798e-01, -2.55341795e-01, -1.41601733e+00,\n",
       "        -8.96847703e-01],\n",
       "       [-1.18292568e+00, -1.26530205e+00, -5.00488888e-01,\n",
       "        -1.27081184e+00, -1.07173541e+00, -2.26852199e-01,\n",
       "        -8.11554362e-01],\n",
       "       [-1.07963541e-01,  5.18309531e-02, -7.63606018e-01,\n",
       "         2.02019377e-01, -3.67395821e-01,  2.84881427e-01,\n",
       "        -1.34523922e-02],\n",
       "       [-1.32284139e+00, -1.31829016e+00, -1.43500835e+00,\n",
       "        -1.28638559e+00, -1.42390521e+00,  1.13799262e+00,\n",
       "        -7.26261022e-01],\n",
       "       [ 1.53689916e+00,  1.55063747e+00,  4.93005104e-01,\n",
       "         1.59475706e+00,  1.49216742e+00, -1.40343264e-01,\n",
       "         1.69647600e+00],\n",
       "       [ 1.39015829e+00,  1.30083639e+00,  1.19162645e+00,\n",
       "         1.02297817e+00,  1.36944158e+00, -1.35679199e+00,\n",
       "         1.43450360e+00],\n",
       "       [-9.20157156e-01, -9.62512853e-01, -3.05419291e-01,\n",
       "        -8.63669679e-01, -7.35573335e-01,  2.95528680e-01,\n",
       "        -7.93277218e-01],\n",
       "       [ 7.75894216e-01,  6.34700155e-01,  1.69064170e+00,\n",
       "         4.62323384e-01,  1.15333739e+00, -4.87044459e-01,\n",
       "         1.65257464e-01],\n",
       "       [-1.59152215e-01, -1.29842564e-01,  8.92564040e-02,\n",
       "         1.29096277e-02, -1.61963440e-01, -1.58038431e+00,\n",
       "        -5.13027671e-01],\n",
       "       [-3.62993988e-02, -2.50958243e-01,  2.02634286e+00,\n",
       "        -9.32639117e-01,  5.74391588e-01, -1.27826849e+00,\n",
       "        -1.53045537e+00],\n",
       "       [-1.29212818e+00, -1.16689556e+00, -2.34684530e+00,\n",
       "        -6.65660648e-01, -1.46659246e+00,  2.02770375e+00,\n",
       "        -4.86627352e-01],\n",
       "       [-7.38377592e-02, -1.97970133e-01,  1.30050250e+00,\n",
       "        -6.07815313e-01,  2.19553839e-01,  3.30797708e-01,\n",
       "        -1.26239059e+00],\n",
       "       [-2.37641513e-01, -3.34225272e-01,  9.28509319e-01,\n",
       "        -4.54302693e-01,  1.36847296e-01, -6.57400516e-01,\n",
       "        -8.17646744e-01],\n",
       "       [ 7.63156822e-02,  1.72946631e-01, -2.19225748e-01,\n",
       "         1.73096709e-01, -1.03268474e-01, -1.16780324e+00,\n",
       "         7.38717420e-02],\n",
       "       [ 1.36627025e+00,  1.32354558e+00,  9.05826808e-01,\n",
       "         1.44124444e+00,  1.18001692e+00, -3.00052068e-01,\n",
       "         1.32077915e+00],\n",
       "       [ 2.57182328e-01,  2.63783390e-01,  5.29297122e-01,\n",
       "         3.37733432e-01,  4.19650314e-01,  8.54509494e-01,\n",
       "         9.02435619e-01],\n",
       "       [ 1.34579478e+00,  1.24027855e+00,  1.32772152e+00,\n",
       "         1.08304832e+00,  1.64957665e+00,  3.32794068e-01,\n",
       "         1.19690072e+00],\n",
       "       [ 4.03923191e-01,  2.63783390e-01,  1.62259416e+00,\n",
       "        -5.81117466e-01,  8.83874136e-01, -2.34172186e-01,\n",
       "        -5.25212434e-01],\n",
       "       [-1.04300997e+00, -7.73269605e-01, -2.83225104e+00,\n",
       "        -4.00906999e-01, -1.52795538e+00,  4.59230204e-01,\n",
       "        -1.88100660e-01],\n",
       "       [-1.10784896e+00, -9.32233933e-01, -2.30601678e+00,\n",
       "        -5.81117466e-01, -1.51461561e+00,  2.48946946e-01,\n",
       "        -4.48042269e-01],\n",
       "       [ 6.70104291e-01,  8.16373673e-01, -3.09955793e-01,\n",
       "         6.73681338e-01,  4.99688904e-01,  8.19905919e-01,\n",
       "         7.96834341e-01],\n",
       "       [-1.37061748e+00, -1.21988367e+00, -2.71883848e+00,\n",
       "        -6.83459212e-01, -1.60799397e+00,  1.18058163e+00,\n",
       "        -4.23672743e-01],\n",
       "       [ 2.70832640e-01,  4.30317448e-01, -5.73072923e-01,\n",
       "         4.62323384e-01,  9.41600483e-02, -6.40764182e-01,\n",
       "         7.09510207e-01],\n",
       "       [ 6.93992339e-01,  8.54222322e-01, -3.78003327e-01,\n",
       "         8.31643599e-01,  6.22414742e-01,  6.56869849e-01,\n",
       "         9.63359434e-01],\n",
       "       [-1.32966654e+00, -1.31829016e+00, -1.51666539e+00,\n",
       "        -1.19294312e+00, -1.53595924e+00,  3.26804988e-01,\n",
       "        -9.07001672e-01],\n",
       "       [-1.22728920e+00, -1.06848907e+00, -2.44664835e+00,\n",
       "        -7.68002394e-01, -1.50394380e+00,  1.65105715e+00,\n",
       "        -2.59178444e-01],\n",
       "       [-1.21022630e+00, -1.15932583e+00, -1.59378593e+00,\n",
       "        -9.74910708e-01, -1.44258088e+00,  1.09606906e+00,\n",
       "        -6.30813713e-01],\n",
       "       [ 1.39357087e+00,  1.27812720e+00,  1.36855004e+00,\n",
       "         1.34112751e+00,  1.38278135e+00, -3.25398211e-02,\n",
       "         1.14410008e+00],\n",
       "       [-2.78592452e-01, -5.38607979e-01,  2.16243793e+00,\n",
       "        -1.12397369e+00,  3.52951489e-01,  1.02885827e+00,\n",
       "        -1.26239059e+00],\n",
       "       [ 1.95755920e-01,  8.96796026e-02,  1.28689300e+00,\n",
       "        -3.27487920e-01,  5.71723635e-01, -5.84925017e-02,\n",
       "         7.38717420e-02],\n",
       "       [-1.20681373e+00, -1.27287178e+00, -6.50193462e-01,\n",
       "        -1.18626866e+00, -1.19179330e+00,  1.97707038e-01,\n",
       "        -8.15615950e-01],\n",
       "       [ 3.66384830e-01,  2.71353120e-01,  1.27781999e+00,\n",
       "        -1.37882192e-02,  6.83777661e-01, -1.94498620e+00,\n",
       "        -6.32844506e-01],\n",
       "       [ 1.41404634e+00,  1.42195206e+00,  5.56516135e-01,\n",
       "         1.38784874e+00,  1.34543001e+00, -2.12877679e-01,\n",
       "         1.51370456e+00],\n",
       "       [-5.07235192e-01, -4.55340950e-01, -4.23368349e-01,\n",
       "        -1.85099403e-01, -4.74113941e-01,  2.22733975e+00,\n",
       "         7.59025358e-02],\n",
       "       [ 4.55111864e-01,  3.39480689e-01,  1.48649909e+00,\n",
       "         7.52046038e-02,  8.30515076e-01, -1.55243527e+00,\n",
       "        -4.62257826e-01],\n",
       "       [ 6.87167183e-01,  7.33106644e-01,  3.61446539e-01,\n",
       "         8.73915190e-01,  6.27750648e-01,  2.10350651e-01,\n",
       "         8.90250856e-01],\n",
       "       [ 8.71446406e-01,  9.22349891e-01,  3.56910036e-01,\n",
       "         1.15869222e+00,  8.62530512e-01, -1.07736050e-01,\n",
       "         1.15425405e+00],\n",
       "       [ 1.03616308e-01, -1.15715616e-03,  1.26874699e+00,\n",
       "        -1.00556222e-01,  5.63719776e-01, -3.72586483e-01,\n",
       "        -4.52103857e-01],\n",
       "       [-5.41360975e-01, -5.31038249e-01, -1.19422699e-01,\n",
       "        -5.09923207e-01, -4.82117800e-01,  3.12165014e-01,\n",
       "        -6.38936888e-01],\n",
       "       [ 1.75189159e+00,  1.80043856e+00,  2.07205462e-01,\n",
       "         2.33784713e+00,  1.36677363e+00, -2.90070267e-01,\n",
       "         2.33008367e+00],\n",
       "       [-6.09612539e-01, -5.91596088e-01, -2.96346287e-01,\n",
       "        -5.09923207e-01, -5.99507732e-01, -2.09550412e-01,\n",
       "        -1.17303566e+00],\n",
       "       [ 1.08643883e+00,  9.98047190e-01,  1.29596600e+00,\n",
       "         5.91362977e-01,  1.18268487e+00, -1.07796703e+00,\n",
       "         8.82127681e-01],\n",
       "       [-8.07542075e-01, -7.20281496e-01, -1.10838019e+00,\n",
       "        -6.79009571e-01, -9.43673669e-01,  8.22567733e-01,\n",
       "        -2.69332413e-01]])"
      ]
     },
     "execution_count": 47,
     "metadata": {},
     "output_type": "execute_result"
    }
   ],
   "source": [
    "xtest"
   ]
  },
  {
   "cell_type": "markdown",
   "id": "1a6137b6",
   "metadata": {},
   "source": [
    "# Logistic Regression"
   ]
  },
  {
   "cell_type": "code",
   "execution_count": 48,
   "id": "ec7b306b",
   "metadata": {},
   "outputs": [],
   "source": [
    "from sklearn.linear_model import LogisticRegression"
   ]
  },
  {
   "cell_type": "code",
   "execution_count": 49,
   "id": "7cb16b2d",
   "metadata": {},
   "outputs": [],
   "source": [
    "Lr = LogisticRegression()"
   ]
  },
  {
   "cell_type": "code",
   "execution_count": 50,
   "id": "ab78fdcb",
   "metadata": {},
   "outputs": [
    {
     "data": {
      "text/plain": [
       "LogisticRegression()"
      ]
     },
     "execution_count": 50,
     "metadata": {},
     "output_type": "execute_result"
    }
   ],
   "source": [
    "Lr.fit(xtrain,ytrain)"
   ]
  },
  {
   "cell_type": "markdown",
   "id": "6e12fbac",
   "metadata": {},
   "source": [
    "## Predicting the test_input"
   ]
  },
  {
   "cell_type": "code",
   "execution_count": 51,
   "id": "9ca81734",
   "metadata": {},
   "outputs": [],
   "source": [
    "y_predict = Lr.predict(xtest)"
   ]
  },
  {
   "cell_type": "code",
   "execution_count": 52,
   "id": "c84da21b",
   "metadata": {},
   "outputs": [
    {
     "data": {
      "text/plain": [
       "array([0, 1, 0, 0, 2, 1, 1, 1, 1, 2, 0, 2, 0, 2, 1, 1, 2, 0, 0, 0, 2, 0,\n",
       "       0, 0, 1, 1, 1, 0, 2, 2, 1, 2, 0, 1, 2, 2, 2, 1, 0, 0, 2, 0, 1, 2,\n",
       "       0, 1, 1, 0, 2, 1, 0, 1, 2], dtype=int64)"
      ]
     },
     "execution_count": 52,
     "metadata": {},
     "output_type": "execute_result"
    }
   ],
   "source": [
    "y_predict"
   ]
  },
  {
   "cell_type": "markdown",
   "id": "34bc6a3d",
   "metadata": {},
   "source": [
    "# Accuracy of the predicted value"
   ]
  },
  {
   "cell_type": "code",
   "execution_count": 53,
   "id": "8b971148",
   "metadata": {},
   "outputs": [],
   "source": [
    "#building confusion matrix\n",
    "from sklearn.metrics import confusion_matrix"
   ]
  },
  {
   "cell_type": "code",
   "execution_count": 57,
   "id": "b835f9ab",
   "metadata": {},
   "outputs": [],
   "source": [
    "cm = confusion_matrix(ytest,y_predict)"
   ]
  },
  {
   "cell_type": "code",
   "execution_count": 58,
   "id": "a398a7b2",
   "metadata": {},
   "outputs": [
    {
     "data": {
      "text/plain": [
       "array([[16,  0,  1],\n",
       "       [ 3, 18,  0],\n",
       "       [ 0,  0, 15]], dtype=int64)"
      ]
     },
     "execution_count": 58,
     "metadata": {},
     "output_type": "execute_result"
    }
   ],
   "source": [
    "cm"
   ]
  },
  {
   "cell_type": "code",
   "execution_count": 60,
   "id": "e04e936e",
   "metadata": {},
   "outputs": [],
   "source": [
    "#finding accuracy score\n",
    "from sklearn.metrics import accuracy_score\n",
    "ac = accuracy_score(ytest,y_predict)"
   ]
  },
  {
   "cell_type": "code",
   "execution_count": 61,
   "id": "86611212",
   "metadata": {},
   "outputs": [
    {
     "data": {
      "text/plain": [
       "0.9245283018867925"
      ]
     },
     "execution_count": 61,
     "metadata": {},
     "output_type": "execute_result"
    }
   ],
   "source": [
    "ac"
   ]
  },
  {
   "cell_type": "code",
   "execution_count": null,
   "id": "85e5e762",
   "metadata": {},
   "outputs": [],
   "source": []
  }
 ],
 "metadata": {
  "kernelspec": {
   "display_name": "Python 3",
   "language": "python",
   "name": "python3"
  },
  "language_info": {
   "codemirror_mode": {
    "name": "ipython",
    "version": 3
   },
   "file_extension": ".py",
   "mimetype": "text/x-python",
   "name": "python",
   "nbconvert_exporter": "python",
   "pygments_lexer": "ipython3",
   "version": "3.8.8"
  }
 },
 "nbformat": 4,
 "nbformat_minor": 5
}
